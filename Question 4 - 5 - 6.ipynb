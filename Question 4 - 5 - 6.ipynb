{
 "cells": [
  {
   "cell_type": "markdown",
   "id": "d7f82160",
   "metadata": {},
   "source": [
    "# Question 4-5 is exactly same question."
   ]
  },
  {
   "cell_type": "code",
   "execution_count": 1,
   "id": "64e5cc17",
   "metadata": {},
   "outputs": [],
   "source": [
    "import pandas as pd"
   ]
  },
  {
   "cell_type": "code",
   "execution_count": 2,
   "id": "ccdda146",
   "metadata": {},
   "outputs": [],
   "source": [
    "data = pd.read_csv(\"country_vaccination_stats.csv\")"
   ]
  },
  {
   "cell_type": "code",
   "execution_count": 3,
   "id": "071803ec",
   "metadata": {
    "scrolled": true
   },
   "outputs": [
    {
     "data": {
      "text/html": [
       "<div>\n",
       "<style scoped>\n",
       "    .dataframe tbody tr th:only-of-type {\n",
       "        vertical-align: middle;\n",
       "    }\n",
       "\n",
       "    .dataframe tbody tr th {\n",
       "        vertical-align: top;\n",
       "    }\n",
       "\n",
       "    .dataframe thead th {\n",
       "        text-align: right;\n",
       "    }\n",
       "</style>\n",
       "<table border=\"1\" class=\"dataframe\">\n",
       "  <thead>\n",
       "    <tr style=\"text-align: right;\">\n",
       "      <th></th>\n",
       "      <th>country</th>\n",
       "      <th>date</th>\n",
       "      <th>daily_vaccinations</th>\n",
       "      <th>vaccines</th>\n",
       "    </tr>\n",
       "  </thead>\n",
       "  <tbody>\n",
       "    <tr>\n",
       "      <th>0</th>\n",
       "      <td>Argentina</td>\n",
       "      <td>12/29/2020</td>\n",
       "      <td>NaN</td>\n",
       "      <td>Sputnik V</td>\n",
       "    </tr>\n",
       "    <tr>\n",
       "      <th>1</th>\n",
       "      <td>Argentina</td>\n",
       "      <td>12/30/2020</td>\n",
       "      <td>15656.0</td>\n",
       "      <td>Sputnik V</td>\n",
       "    </tr>\n",
       "    <tr>\n",
       "      <th>2</th>\n",
       "      <td>Argentina</td>\n",
       "      <td>12/31/2020</td>\n",
       "      <td>15656.0</td>\n",
       "      <td>Sputnik V</td>\n",
       "    </tr>\n",
       "    <tr>\n",
       "      <th>3</th>\n",
       "      <td>Argentina</td>\n",
       "      <td>1/1/2021</td>\n",
       "      <td>11070.0</td>\n",
       "      <td>Sputnik V</td>\n",
       "    </tr>\n",
       "    <tr>\n",
       "      <th>4</th>\n",
       "      <td>Argentina</td>\n",
       "      <td>1/2/2021</td>\n",
       "      <td>8776.0</td>\n",
       "      <td>Sputnik V</td>\n",
       "    </tr>\n",
       "    <tr>\n",
       "      <th>...</th>\n",
       "      <td>...</td>\n",
       "      <td>...</td>\n",
       "      <td>...</td>\n",
       "      <td>...</td>\n",
       "    </tr>\n",
       "    <tr>\n",
       "      <th>1497</th>\n",
       "      <td>Wales</td>\n",
       "      <td>1/20/2021</td>\n",
       "      <td>11105.0</td>\n",
       "      <td>Oxford/AstraZeneca, Pfizer/BioNTech</td>\n",
       "    </tr>\n",
       "    <tr>\n",
       "      <th>1498</th>\n",
       "      <td>Wales</td>\n",
       "      <td>1/21/2021</td>\n",
       "      <td>12318.0</td>\n",
       "      <td>Oxford/AstraZeneca, Pfizer/BioNTech</td>\n",
       "    </tr>\n",
       "    <tr>\n",
       "      <th>1499</th>\n",
       "      <td>Wales</td>\n",
       "      <td>1/22/2021</td>\n",
       "      <td>15148.0</td>\n",
       "      <td>Oxford/AstraZeneca, Pfizer/BioNTech</td>\n",
       "    </tr>\n",
       "    <tr>\n",
       "      <th>1500</th>\n",
       "      <td>Wales</td>\n",
       "      <td>1/23/2021</td>\n",
       "      <td>17371.0</td>\n",
       "      <td>Oxford/AstraZeneca, Pfizer/BioNTech</td>\n",
       "    </tr>\n",
       "    <tr>\n",
       "      <th>1501</th>\n",
       "      <td>Wales</td>\n",
       "      <td>1/24/2021</td>\n",
       "      <td>17063.0</td>\n",
       "      <td>Oxford/AstraZeneca, Pfizer/BioNTech</td>\n",
       "    </tr>\n",
       "  </tbody>\n",
       "</table>\n",
       "<p>1502 rows × 4 columns</p>\n",
       "</div>"
      ],
      "text/plain": [
       "        country        date  daily_vaccinations  \\\n",
       "0     Argentina  12/29/2020                 NaN   \n",
       "1     Argentina  12/30/2020             15656.0   \n",
       "2     Argentina  12/31/2020             15656.0   \n",
       "3     Argentina    1/1/2021             11070.0   \n",
       "4     Argentina    1/2/2021              8776.0   \n",
       "...         ...         ...                 ...   \n",
       "1497      Wales   1/20/2021             11105.0   \n",
       "1498      Wales   1/21/2021             12318.0   \n",
       "1499      Wales   1/22/2021             15148.0   \n",
       "1500      Wales   1/23/2021             17371.0   \n",
       "1501      Wales   1/24/2021             17063.0   \n",
       "\n",
       "                                 vaccines  \n",
       "0                               Sputnik V  \n",
       "1                               Sputnik V  \n",
       "2                               Sputnik V  \n",
       "3                               Sputnik V  \n",
       "4                               Sputnik V  \n",
       "...                                   ...  \n",
       "1497  Oxford/AstraZeneca, Pfizer/BioNTech  \n",
       "1498  Oxford/AstraZeneca, Pfizer/BioNTech  \n",
       "1499  Oxford/AstraZeneca, Pfizer/BioNTech  \n",
       "1500  Oxford/AstraZeneca, Pfizer/BioNTech  \n",
       "1501  Oxford/AstraZeneca, Pfizer/BioNTech  \n",
       "\n",
       "[1502 rows x 4 columns]"
      ]
     },
     "execution_count": 3,
     "metadata": {},
     "output_type": "execute_result"
    }
   ],
   "source": [
    "data"
   ]
  },
  {
   "cell_type": "markdown",
   "id": "dbf8695d",
   "metadata": {},
   "source": [
    "## Question 4-5) Code Implementation Task: Implement code to fill the missing data (impute) in daily_vaccinations column per country with the minimum daily vaccination number of relevant countries.  \n",
    "## Note: If a country does not have any valid vaccination number yet, fill it with “0” (zero). \n",
    "## Please  provide the link to your code as answer to this question."
   ]
  },
  {
   "cell_type": "code",
   "execution_count": 4,
   "id": "785420c2",
   "metadata": {},
   "outputs": [
    {
     "data": {
      "text/plain": [
       "0           NaN\n",
       "1       15656.0\n",
       "2       15656.0\n",
       "3       11070.0\n",
       "4        8776.0\n",
       "         ...   \n",
       "1497    11105.0\n",
       "1498    12318.0\n",
       "1499    15148.0\n",
       "1500    17371.0\n",
       "1501    17063.0\n",
       "Name: daily_vaccinations, Length: 1502, dtype: float64"
      ]
     },
     "execution_count": 4,
     "metadata": {},
     "output_type": "execute_result"
    }
   ],
   "source": [
    "data.daily_vaccinations"
   ]
  },
  {
   "cell_type": "code",
   "execution_count": 5,
   "id": "ab477c77",
   "metadata": {},
   "outputs": [
    {
     "data": {
      "text/plain": [
       "country                0\n",
       "date                   0\n",
       "daily_vaccinations    60\n",
       "vaccines               0\n",
       "dtype: int64"
      ]
     },
     "execution_count": 5,
     "metadata": {},
     "output_type": "execute_result"
    }
   ],
   "source": [
    "data.isnull().sum()"
   ]
  },
  {
   "cell_type": "code",
   "execution_count": 9,
   "id": "04e52599",
   "metadata": {},
   "outputs": [],
   "source": [
    "df = pd.DataFrame(data)"
   ]
  },
  {
   "cell_type": "code",
   "execution_count": 20,
   "id": "0753fa50",
   "metadata": {},
   "outputs": [
    {
     "name": "stdout",
     "output_type": "stream",
     "text": [
      "        country        date  daily_vaccinations  \\\n",
      "0     Argentina  12/29/2020              6483.0   \n",
      "1     Argentina  12/30/2020             15656.0   \n",
      "2     Argentina  12/31/2020             15656.0   \n",
      "3     Argentina    1/1/2021             11070.0   \n",
      "4     Argentina    1/2/2021              8776.0   \n",
      "...         ...         ...                 ...   \n",
      "1497      Wales   1/20/2021             11105.0   \n",
      "1498      Wales   1/21/2021             12318.0   \n",
      "1499      Wales   1/22/2021             15148.0   \n",
      "1500      Wales   1/23/2021             17371.0   \n",
      "1501      Wales   1/24/2021             17063.0   \n",
      "\n",
      "                                 vaccines  \n",
      "0                               Sputnik V  \n",
      "1                               Sputnik V  \n",
      "2                               Sputnik V  \n",
      "3                               Sputnik V  \n",
      "4                               Sputnik V  \n",
      "...                                   ...  \n",
      "1497  Oxford/AstraZeneca, Pfizer/BioNTech  \n",
      "1498  Oxford/AstraZeneca, Pfizer/BioNTech  \n",
      "1499  Oxford/AstraZeneca, Pfizer/BioNTech  \n",
      "1500  Oxford/AstraZeneca, Pfizer/BioNTech  \n",
      "1501  Oxford/AstraZeneca, Pfizer/BioNTech  \n",
      "\n",
      "[1502 rows x 4 columns]\n"
     ]
    }
   ],
   "source": [
    "def fillMissingVaccinations(df):\n",
    "    countries = df[\"country\"].unique()\n",
    "    for country in countries:\n",
    "        countryMask = df[\"country\"] == country\n",
    "        minVaccinations = df.loc[countryMask, \"daily_vaccinations\"].dropna().min()\n",
    "        if pd.isna(minVaccinations):\n",
    "            minVaccinations = 0  \n",
    "        df.loc[countryMask, \"daily_vaccinations\"] = df.loc[countryMask, \"daily_vaccinations\"].fillna(minVaccinations)\n",
    "    return df\n",
    "\n",
    "df = fillMissingVaccinations(df)\n",
    "print(df)"
   ]
  },
  {
   "cell_type": "code",
   "execution_count": 21,
   "id": "5f8af0d1",
   "metadata": {},
   "outputs": [
    {
     "name": "stdout",
     "output_type": "stream",
     "text": [
      "0      6483.0\n",
      "1     15656.0\n",
      "2     15656.0\n",
      "3     11070.0\n",
      "4      8776.0\n",
      "5      7400.0\n",
      "6      6483.0\n",
      "7      7984.0\n",
      "8      8173.0\n",
      "9      8363.0\n",
      "10    10519.0\n",
      "11    11942.0\n",
      "12    13365.0\n",
      "13    14788.0\n",
      "14    14056.0\n",
      "15    13323.0\n",
      "16    13320.0\n",
      "17    13317.0\n",
      "18    12971.0\n",
      "19    12624.0\n",
      "Name: daily_vaccinations, dtype: float64\n"
     ]
    }
   ],
   "source": [
    "print(df[\"daily_vaccinations\"].head(20))"
   ]
  },
  {
   "cell_type": "code",
   "execution_count": 22,
   "id": "54d2697e",
   "metadata": {},
   "outputs": [
    {
     "data": {
      "text/plain": [
       "0      6483.0\n",
       "1     15656.0\n",
       "2     15656.0\n",
       "3     11070.0\n",
       "4      8776.0\n",
       "5      7400.0\n",
       "6      6483.0\n",
       "7      7984.0\n",
       "8      8173.0\n",
       "9      8363.0\n",
       "10    10519.0\n",
       "11    11942.0\n",
       "12    13365.0\n",
       "13    14788.0\n",
       "14    14056.0\n",
       "15    13323.0\n",
       "16    13320.0\n",
       "17    13317.0\n",
       "18    12971.0\n",
       "19    12624.0\n",
       "Name: daily_vaccinations, dtype: float64"
      ]
     },
     "execution_count": 22,
     "metadata": {},
     "output_type": "execute_result"
    }
   ],
   "source": [
    "data[\"daily_vaccinations\"].head(20)"
   ]
  },
  {
   "cell_type": "code",
   "execution_count": 23,
   "id": "18a1314c",
   "metadata": {},
   "outputs": [
    {
     "data": {
      "text/plain": [
       "country               0\n",
       "date                  0\n",
       "daily_vaccinations    0\n",
       "vaccines              0\n",
       "dtype: int64"
      ]
     },
     "execution_count": 23,
     "metadata": {},
     "output_type": "execute_result"
    }
   ],
   "source": [
    "data.isnull().sum()"
   ]
  },
  {
   "cell_type": "markdown",
   "id": "70d8ebbf",
   "metadata": {},
   "source": [
    "## Question 6-) Code Implementation Task: Implement code to list the top-3 countries with highest median daily vaccination numbers by considering missing values imputed version of dataset.\n",
    "## Please  provide the link to your code as answer to this question."
   ]
  },
  {
   "cell_type": "code",
   "execution_count": 25,
   "id": "c6100c48",
   "metadata": {},
   "outputs": [
    {
     "name": "stdout",
     "output_type": "stream",
     "text": [
      "Top 3 countries with highest median daily vaccinations:\n",
      "country\n",
      "United States    378253.0\n",
      "China            276786.0\n",
      "India            173922.0\n",
      "Name: daily_vaccinations, dtype: float64\n"
     ]
    }
   ],
   "source": [
    "medianDailyVaccinations = df.groupby(\"country\")[\"daily_vaccinations\"].median()\n",
    "\n",
    "topCountries = medianDailyVaccinations.sort_values(ascending=False).head(3)\n",
    "\n",
    "print(\"Top 3 countries with highest median daily vaccinations:\")\n",
    "print(topCountries)"
   ]
  },
  {
   "cell_type": "markdown",
   "id": "f17ff890",
   "metadata": {},
   "source": [
    "## Question7"
   ]
  },
  {
   "cell_type": "code",
   "execution_count": 34,
   "id": "ec7b28e2",
   "metadata": {},
   "outputs": [],
   "source": [
    "Totalvacc = df[df['date'] == '1/6/2021']['daily_vaccinations'].sum()"
   ]
  },
  {
   "cell_type": "code",
   "execution_count": 35,
   "id": "6ac5184f",
   "metadata": {},
   "outputs": [
    {
     "data": {
      "text/plain": [
       "1485255.0"
      ]
     },
     "execution_count": 35,
     "metadata": {},
     "output_type": "execute_result"
    }
   ],
   "source": [
    "Totalvacc"
   ]
  }
 ],
 "metadata": {
  "kernelspec": {
   "display_name": "Python 3 (ipykernel)",
   "language": "python",
   "name": "python3"
  },
  "language_info": {
   "codemirror_mode": {
    "name": "ipython",
    "version": 3
   },
   "file_extension": ".py",
   "mimetype": "text/x-python",
   "name": "python",
   "nbconvert_exporter": "python",
   "pygments_lexer": "ipython3",
   "version": "3.11.5"
  }
 },
 "nbformat": 4,
 "nbformat_minor": 5
}
